{
 "cells": [
  {
   "attachments": {},
   "cell_type": "markdown",
   "metadata": {},
   "source": [
    "# Övning - Fibonacci\n",
    "\n",
    "Här kommer en klassiker inom programering, fibbonaccis talföljd. Ditt uppdrag är att skriva en funktion som utifrån ett nummer hitta talet på den positionen i fibonaccis talföljd. En liten refresher för dig som inte kan den\n",
    "\n",
    "> *1 1 2 3 5 8 13 21 ...*\n",
    "\n",
    "man tar alltså de två föregående talen och slår ihop dem till nästa. \n",
    "\n",
    "Gör den här övningen i en egen fil i mappen *Dina filer* som jag gett dig\n",
    "\n",
    "Facit står i nästa lektion\n",
    "\n",
    "*Ps. kom ihåg de rekursiva funktionerna och tänk som du skulle gjort i algebra*"
   ]
  }
 ],
 "metadata": {
  "language_info": {
   "name": "python"
  },
  "orig_nbformat": 4
 },
 "nbformat": 4,
 "nbformat_minor": 2
}
