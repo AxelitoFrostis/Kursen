{
 "cells": [
  {
   "cell_type": "markdown",
   "metadata": {},
   "source": [
    "# HTML\n",
    "\n",
    "HTML är så lätt att man inte ens kan kalla det ett programspråk, det saknar alla funktioner som python har för att manipulera data. HTML står för Hyper Text Markup Language och är ett markup language, ett på svenska märkningsspråk. Det definerar strukturen på en websida. \n",
    "\n",
    "För att reda ut några begrepp. En hemsida är en individuell sida på en webplats. Varje gång du byter url byts också din sida. \n",
    "\n",
    "Moderna webplatser renderas dynamiskt vilket innebär att det bara finns en hemsida som visar olika vyer med hjälp av javascript-kod. Mer om det senare. \n",
    "\n",
    "HTML är som sagt väldigt lätt. Informationen struktureras hierarkiskt mellan så kallade HTML-taggar. Det är markörer som definerar vad objektet har för roll på hemsidan. Exempel är rubriker, textstycken, bilder och länkar. Länkar är faktist väldigt centrala inom webprogramering och kläs ofta ut som knappar som skickar en till en annan del av webplatsen. \n",
    "\n",
    "Jag kommer inte lära ut HTML på den här kursen men jag kommer länka till en bra källa och skicka med en uppgift. Låt mig börja med källan:\n",
    "\n",
    "[Länk till lektion](https://www.w3schools.com/html/default.asp)\n",
    "\n",
    "Gå igenom hela den och se till att du fattar hur allt fungerar. Därefter, skapa en egen HTML-fil i mappen Dina filer Jag gett dig. Hemsidan kommer se ut som om den vore tagen direkt från slutet av 90-talet men det är okej. På hemsidan vill jag ha:\n",
    "\n",
    "En titel, textstycken, en rolig bild, länkar till ordentliga websidor, listor och ett formulär. \n",
    "\n",
    "Strukturera den snyggt med divs också, det är en bra vana så det inte bara är mängder med kaos. "
   ]
  },
  {
   "cell_type": "markdown",
   "metadata": {},
   "source": [
    "I nästa lektion ska du få lära dig hur du gör det snyggt. "
   ]
  }
 ],
 "metadata": {
  "language_info": {
   "name": "python"
  },
  "orig_nbformat": 4
 },
 "nbformat": 4,
 "nbformat_minor": 2
}
