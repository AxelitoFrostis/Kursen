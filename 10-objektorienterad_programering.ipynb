{
 "cells": [
  {
   "attachments": {},
   "cell_type": "markdown",
   "metadata": {},
   "source": [
    "# Objektorienterad Programering (OOP)\n",
    "\n",
    "Det här kommer troligen bara ett av de svåraste avsnitten hitills men den är en väldigt viktig del av programering för att kunna konstruera stora projekt på ett organiserat och effektivt sätt. Det kommer troligen krävas att du går igenom det ett antal gånger eftersom programering bli allt mer abstrakt här. Det kommer även dyka upp svåra begrepp, det kommer även förklara hur allt hänger ihop. Let's go!"
   ]
  },
  {
   "attachments": {},
   "cell_type": "markdown",
   "metadata": {},
   "source": [
    "## Klasser\n",
    "\n",
    "I objektorienterade språk (ex. java, inte att förväxla med java script som inte stödjer det i samma utsträckning) är allting klasser och objekt. Python kan också skrivas som ett objektorienterat språk. \n",
    "\n",
    "En klass är i programering en sort objekt. Klasserna kan i sin tur användas som ritning för att skapa objekt av samma sort. Ex. "
   ]
  },
  {
   "cell_type": "code",
   "execution_count": 22,
   "metadata": {},
   "outputs": [],
   "source": [
    "class bil:\n",
    "    hjul = 4"
   ]
  },
  {
   "attachments": {},
   "cell_type": "markdown",
   "metadata": {},
   "source": [
    "Om man skapar ett objekt av klassen bil kommer vi kunna se att den har 4 hjul. "
   ]
  },
  {
   "cell_type": "code",
   "execution_count": 23,
   "metadata": {},
   "outputs": [
    {
     "name": "stdout",
     "output_type": "stream",
     "text": [
      "4\n"
     ]
    }
   ],
   "source": [
    "volvo = bil()\n",
    "\n",
    "print(volvo.hjul)"
   ]
  },
  {
   "attachments": {},
   "cell_type": "markdown",
   "metadata": {},
   "source": [
    "Alla bilar har däremot inte 4 hjul, men de allra flesta har så det är inte helt orimligt att sätta det som standard som jag gjorde ovan i klassdefintionen, däremot går det att ändra"
   ]
  },
  {
   "cell_type": "code",
   "execution_count": 24,
   "metadata": {},
   "outputs": [
    {
     "name": "stdout",
     "output_type": "stream",
     "text": [
      "3\n"
     ]
    }
   ],
   "source": [
    "tuktuk = bil()\n",
    "\n",
    "tuktuk.hjul = 3\n",
    "\n",
    "print (tuktuk.hjul)"
   ]
  },
  {
   "attachments": {},
   "cell_type": "markdown",
   "metadata": {},
   "source": [
    "Vissa parametrar är däremot olika för alla modeller, tex märke och motor. De är rimliga att definera varje gång man skapar objektet. Man kan göra det på följande sätt"
   ]
  },
  {
   "cell_type": "code",
   "execution_count": 25,
   "metadata": {},
   "outputs": [],
   "source": [
    "pickup = bil()\n",
    "\n",
    "pickup.märke = \"ford\"\n",
    "pickup.motor = \"v6\""
   ]
  },
  {
   "attachments": {},
   "cell_type": "markdown",
   "metadata": {},
   "source": [
    "Det är däremot ett väldigt klumpigt sätt att göra det på. Ett bättre sätt är att skriva över metoden som används för att skapa objektet. "
   ]
  },
  {
   "attachments": {},
   "cell_type": "markdown",
   "metadata": {},
   "source": [
    "Men vad är ens en metod?\n",
    "\n",
    "En metod är helt enklet en funktion som modifierar objektet själv. De finns definerade i klassdefinitionen. Här är ett exempel på en metod. "
   ]
  },
  {
   "cell_type": "code",
   "execution_count": 26,
   "metadata": {},
   "outputs": [],
   "source": [
    "class bil:\n",
    "    hjul = 4\n",
    "\n",
    "    def present(self):\n",
    "        print (\"Jag är en bil av märket \" + self.märke + \" som har motorn \" + self.motor)"
   ]
  },
  {
   "attachments": {},
   "cell_type": "markdown",
   "metadata": {},
   "source": [
    "Self syftar på objektet vi arbetar med, i det här fallet pickuppen. Alla metoder måste ha self som sin första parameter. \n",
    "\n",
    "Om vi åter igen gör en pickup kan den sen presentera sig. "
   ]
  },
  {
   "cell_type": "code",
   "execution_count": 27,
   "metadata": {},
   "outputs": [
    {
     "name": "stdout",
     "output_type": "stream",
     "text": [
      "Jag är en bil av märket ford som har motorn v6\n"
     ]
    }
   ],
   "source": [
    "pickup = bil()\n",
    "\n",
    "pickup.märke = \"ford\"\n",
    "pickup.motor = \"v6\"\n",
    "\n",
    "pickup.present()"
   ]
  },
  {
   "attachments": {},
   "cell_type": "markdown",
   "metadata": {},
   "source": [
    "Som vi konstaterade tidigare är det ett väldigt klumpigt sätt att definera parametrar på, nu går vi vidare och skriver om initiationsmetoden som i python heter \\__init__. Vi lägger till märke och motor som argument. "
   ]
  },
  {
   "cell_type": "code",
   "execution_count": 28,
   "metadata": {},
   "outputs": [],
   "source": [
    "class bil:\n",
    "    hjul = 4\n",
    "\n",
    "    def __init__(self, märke, motor):\n",
    "        self.märke = märke\n",
    "        self.motor = motor\n",
    "\n",
    "    def present(self):\n",
    "        print (\"Jag är en bil av märket \" + self.märke + \" som har motorn \" + self.motor)\n"
   ]
  },
  {
   "cell_type": "markdown",
   "metadata": {},
   "source": [
    "Om vi då ska skapa en pickup igen kan vi mycket lättare skriva det som såhär. "
   ]
  },
  {
   "cell_type": "code",
   "execution_count": 29,
   "metadata": {},
   "outputs": [
    {
     "name": "stdout",
     "output_type": "stream",
     "text": [
      "Jag är en bil av märket ford som har motorn v6\n"
     ]
    }
   ],
   "source": [
    "pickup = bil(\"ford\", \"v6\")\n",
    "\n",
    "pickup.present()"
   ]
  },
  {
   "attachments": {},
   "cell_type": "markdown",
   "metadata": {},
   "source": [
    "## Ärftlighet inom klasser\n",
    "\n",
    "Ibland när man skriver klasser upptäcker man att de har mycket gemensamt. Det kan man utnyttja genom att låta en klass härstamma från en annan. Här är ett exempel "
   ]
  },
  {
   "cell_type": "code",
   "execution_count": 30,
   "metadata": {},
   "outputs": [],
   "source": [
    "class djur:\n",
    "    def __init__(self, namn, ålder):\n",
    "        self.namn = namn\n",
    "        self.ålder = ålder"
   ]
  },
  {
   "attachments": {},
   "cell_type": "markdown",
   "metadata": {},
   "source": [
    "Om vi nu vill ha klasser för olika djur, hur gör vi då. Alla våra djur har namn och ålder så vi vill inte skriva om det för varje, däremot låter de annorlund. Det kan vi lösa genom att skapa egna klasser för de olika djuren och låta dem härstamma från klassen djur. Det specificerar vi i paranteser till höger om class. "
   ]
  },
  {
   "cell_type": "code",
   "execution_count": 31,
   "metadata": {},
   "outputs": [],
   "source": [
    "class hund(djur):\n",
    "    def prata(self):\n",
    "        print (\"voff voff\")\n",
    "\n",
    "class katt(djur):\n",
    "    def prata(self):\n",
    "        print (\"mjao mjao\")\n",
    "\n",
    "class häst(djur):\n",
    "    def prata (self):\n",
    "        print (\"gnnäähäähähe\")"
   ]
  },
  {
   "attachments": {},
   "cell_type": "markdown",
   "metadata": {},
   "source": [
    "Vi kan nu skapa de olika djuren med alla egenskaper hos djur och hos de individuella arterna. "
   ]
  },
  {
   "cell_type": "code",
   "execution_count": 32,
   "metadata": {},
   "outputs": [
    {
     "name": "stdout",
     "output_type": "stream",
     "text": [
      "voff voff\n",
      "5\n"
     ]
    }
   ],
   "source": [
    "pluto = hund(\"Pluto\", 5)\n",
    "\n",
    "pluto.prata()\n",
    "\n",
    "print(pluto.ålder)"
   ]
  },
  {
   "attachments": {},
   "cell_type": "markdown",
   "metadata": {},
   "source": [
    "## Allt är klasser och objekt\n",
    "\n",
    "Det som man kanske inte förstår när man först börjar programera i python är att allt är klasser och objekt. int är tex en klass som sparar nummer som ett objekt. Det är även list, dict och string. Man kan se det med hjälp av följande kod"
   ]
  },
  {
   "cell_type": "code",
   "execution_count": 33,
   "metadata": {},
   "outputs": [
    {
     "name": "stdout",
     "output_type": "stream",
     "text": [
      "<class 'int'>\n"
     ]
    }
   ],
   "source": [
    "print(type(int()))"
   ]
  },
  {
   "cell_type": "code",
   "execution_count": 34,
   "metadata": {},
   "outputs": [
    {
     "name": "stdout",
     "output_type": "stream",
     "text": [
      "<class 'builtin_function_or_method'>\n"
     ]
    }
   ],
   "source": [
    "print(type(print))"
   ]
  },
  {
   "attachments": {},
   "cell_type": "markdown",
   "metadata": {},
   "source": [
    "Svaret blir att int() och print är en klass. Om man byter ut int mot vilken annan datatyp som helst får man samma resultat. Man kan sammanfatta det som om alla datatyper är klasser. Man kan också se det som att du nyss lärt dig skapa egna komplexa datatyper. "
   ]
  },
  {
   "cell_type": "code",
   "execution_count": 35,
   "metadata": {},
   "outputs": [
    {
     "name": "stdout",
     "output_type": "stream",
     "text": [
      "<class '__main__.hund'>\n"
     ]
    }
   ],
   "source": [
    "print(type(pluto))"
   ]
  },
  {
   "attachments": {},
   "cell_type": "markdown",
   "metadata": {},
   "source": [
    "## Klasser inom ramverk\n",
    "\n",
    "Många ramverk använder klasser för att specificera information, de har många fler funktioner än du kan tänka dig. Det är däremot svårt att lära ut, det kommer du upptäcka allt eftersom du går frammåt i din programerningsresa. "
   ]
  }
 ],
 "metadata": {
  "kernelspec": {
   "display_name": "Python 3",
   "language": "python",
   "name": "python3"
  },
  "language_info": {
   "codemirror_mode": {
    "name": "ipython",
    "version": 3
   },
   "file_extension": ".py",
   "mimetype": "text/x-python",
   "name": "python",
   "nbconvert_exporter": "python",
   "pygments_lexer": "ipython3",
   "version": "3.10.6"
  },
  "orig_nbformat": 4
 },
 "nbformat": 4,
 "nbformat_minor": 2
}
