{
 "cells": [
  {
   "attachments": {},
   "cell_type": "markdown",
   "metadata": {},
   "source": [
    "# Funktioner\n",
    "\n",
    "Du kanske känner igen begreppet från matematiken, det är samma sak fast i programering tar vi det till nästa nivå eftersom vi kan specificera våra uttryck i flera steg som kan manipulera värden på galna sätt och göra exakt vad vi vill. "
   ]
  },
  {
   "attachments": {},
   "cell_type": "markdown",
   "metadata": {},
   "source": [
    "Programerare undviker på alla sätt och vis att skriva samma sak två gånger. Om du behöver göra det är det fel på koden. Det har fler användningsområden än att spara tid, det minskar risken för fel och gör det lättare att ändra koden om du vill lägga till en funktion. Med det sagt, låt oss lära oss allt om funktioner\n",
    "\n",
    "För att skapa en funktion definerar man den med kommandet **def** följt av funktionens namn, parametrar och slutligen kolon (:). \n",
    "```py\n",
    "def funktionens_namn (parameter, annan_parameter):\n",
    "```\n",
    "Kolonet betyder att nästa kod kommer vara indragen och att all kod på den indragsnivån kommer vara en del av funktionen. Indraget består av en [tab] eller 4 mellanslag. Om det inte kommer någon indragen kod kommer man få syntax error. Om man inte vill skriva någon kod, men bara skriva en funktion kan man lägga till kommanden **pass**. På följande sätt. \n",
    "```py\n",
    "def funktionens_namn (parameter, annan_parameter):\n",
    "    pass\n",
    "```\n",
    "För att funkionen ska ge tillbaka ett värde används return på följande sätt.\n",
    "```py\n",
    "def funktionens_namn (parameter, annan_parameter):\n",
    "    return \"hello world\"\n",
    "```"
   ]
  },
  {
   "attachments": {},
   "cell_type": "markdown",
   "metadata": {},
   "source": [
    "Här kommer ett exempel på en enkel funktion:"
   ]
  },
  {
   "cell_type": "code",
   "execution_count": 2,
   "metadata": {},
   "outputs": [],
   "source": [
    "def halvera (x):\n",
    "    return x / 2"
   ]
  },
  {
   "attachments": {},
   "cell_type": "markdown",
   "metadata": {},
   "source": [
    "För att köra funktionen. Skriv dess namn, parametrarna inom parantes. Finns inga parametrar? Skriv ändå paranteserna"
   ]
  },
  {
   "cell_type": "code",
   "execution_count": 3,
   "metadata": {},
   "outputs": [
    {
     "data": {
      "text/plain": [
       "3.5"
      ]
     },
     "execution_count": 3,
     "metadata": {},
     "output_type": "execute_result"
    }
   ],
   "source": [
    "halvera(7)"
   ]
  },
  {
   "attachments": {},
   "cell_type": "markdown",
   "metadata": {},
   "source": [
    "Som jag sa tidigare, alla funktioner har inte parametrar, i så fall måste man ändå ha paranteser för att markera att funktionen ska köras. En vidare förklarning av vad som händer annars kommer senare. Här är ett exempel"
   ]
  },
  {
   "cell_type": "code",
   "execution_count": 4,
   "metadata": {},
   "outputs": [
    {
     "data": {
      "text/plain": [
       "'Hello my friend'"
      ]
     },
     "execution_count": 4,
     "metadata": {},
     "output_type": "execute_result"
    }
   ],
   "source": [
    "def greet():\n",
    "    return 'Hello my friend'\n",
    "\n",
    "greet()"
   ]
  },
  {
   "attachments": {},
   "cell_type": "markdown",
   "metadata": {},
   "source": [
    "## Inbyggda funktioner\n",
    "\n",
    "Det finns en hel del inbyggda funktioner. Den första man brukar lära sig är print(). Den skriver ut ett värde i terminalen. Även input() lär sig många tidigt. Det gör det möjligt att skriva in värden i terminalen. Input fungerar däremot inte i dessa notebookfiler så kan tyvärr inte demonstrera dem här. Andra funktioner som finns är:\n",
    "- sorted(*list*) - för att sortera en lista \n",
    "- len(*text eller lista*) - för att få längden på ett objekt. \n",
    "\n",
    "Alla funktioner hittar du på pythons [hemsida](https://docs.python.org/3/library/functions.html)"
   ]
  },
  {
   "cell_type": "code",
   "execution_count": 5,
   "metadata": {},
   "outputs": [
    {
     "name": "stdout",
     "output_type": "stream",
     "text": [
      "hello world\n"
     ]
    }
   ],
   "source": [
    "print (\"hello world\")"
   ]
  }
 ],
 "metadata": {
  "kernelspec": {
   "display_name": "Python 3",
   "language": "python",
   "name": "python3"
  },
  "language_info": {
   "codemirror_mode": {
    "name": "ipython",
    "version": 3
   },
   "file_extension": ".py",
   "mimetype": "text/x-python",
   "name": "python",
   "nbconvert_exporter": "python",
   "pygments_lexer": "ipython3",
   "version": "3.10.6"
  },
  "orig_nbformat": 4
 },
 "nbformat": 4,
 "nbformat_minor": 2
}
