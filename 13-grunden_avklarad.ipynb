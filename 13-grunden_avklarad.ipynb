{
 "cells": [
  {
   "attachments": {},
   "cell_type": "markdown",
   "metadata": {},
   "source": [
    "# Grunden ✅\n",
    "\n",
    "Hitills har alla lektioner handlat om koncept relevanta för alla programspråk även om det ser lite olika ut i olika språk. Frammåt kommer utbildningen handla mer om övningar för att förstå hur man kan applicera alla koncept tillsammans för att lösa riktiga problem. Det kommer fortfarande introduceras nya koncept men de kommer vara mer specifika. "
   ]
  }
 ],
 "metadata": {
  "language_info": {
   "name": "python"
  },
  "orig_nbformat": 4
 },
 "nbformat": 4,
 "nbformat_minor": 2
}
