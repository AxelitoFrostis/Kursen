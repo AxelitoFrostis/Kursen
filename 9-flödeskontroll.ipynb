{
 "cells": [
  {
   "attachments": {},
   "cell_type": "markdown",
   "metadata": {},
   "source": [
    "# Flödeskontroll\n",
    "\n",
    "All kod du skriver ska kanske inte köras varje gång, vissa avsnitt kanske bara ska köras ***om*** vissa krav uppnås. Det är vad det här avsnittet kommer handla om. "
   ]
  },
  {
   "attachments": {},
   "cell_type": "markdown",
   "metadata": {},
   "source": [
    "Det mest grundläggande är att anväda sig av en if-sats. Det skrivs som följande\n",
    "```py\n",
    "if 1 == 2:\n",
    "    gör något\n",
    "```\n",
    "Notera att indrag fungerar på samma sätt som vanligt"
   ]
  },
  {
   "attachments": {},
   "cell_type": "markdown",
   "metadata": {},
   "source": [
    "Med hjälp av det kan man styra *när* något ska köras. Ex. Som man kan se avgör värdet a om kodavsnittet körs, testa gärna ändra a!"
   ]
  },
  {
   "cell_type": "code",
   "execution_count": 1,
   "metadata": {},
   "outputs": [
    {
     "name": "stdout",
     "output_type": "stream",
     "text": [
      "hej\n"
     ]
    }
   ],
   "source": [
    "a = 4\n",
    "if 2 < a:\n",
    "    print (\"hej\")"
   ]
  },
  {
   "attachments": {},
   "cell_type": "markdown",
   "metadata": {},
   "source": [
    "Man kan göra det här ännu mer avancerat genom att lägga till ett else. Det är exakt vad det låter som, annars gör så"
   ]
  },
  {
   "cell_type": "code",
   "execution_count": 3,
   "metadata": {},
   "outputs": [
    {
     "name": "stdout",
     "output_type": "stream",
     "text": [
      "hello\n"
     ]
    }
   ],
   "source": [
    "a = 4\n",
    "if 2 < a:\n",
    "    print (\"hej\")\n",
    "else:\n",
    "    print(\"hello\")"
   ]
  },
  {
   "attachments": {},
   "cell_type": "markdown",
   "metadata": {},
   "source": [
    "Det finns även en tredje operator som förändrar när något körs, elif (kort för else if). "
   ]
  },
  {
   "cell_type": "code",
   "execution_count": 6,
   "metadata": {},
   "outputs": [
    {
     "name": "stdout",
     "output_type": "stream",
     "text": [
      "va\n"
     ]
    }
   ],
   "source": [
    "a = 4\n",
    "if 2 < a:\n",
    "    print (\"hej\")\n",
    "elif 1 < a:\n",
    "    print(\"hello\")\n",
    "else:\n",
    "    print(\"va\")"
   ]
  },
  {
   "attachments": {},
   "cell_type": "markdown",
   "metadata": {},
   "source": [
    "Det motsvarar:"
   ]
  },
  {
   "cell_type": "code",
   "execution_count": null,
   "metadata": {},
   "outputs": [],
   "source": [
    "a = 4\n",
    "if 2 < a:\n",
    "    print (\"hej\")\n",
    "else:\n",
    "    if 1 < a:\n",
    "        print(\"hello\")\n",
    "    else:\n",
    "        print(\"va\")"
   ]
  },
  {
   "attachments": {},
   "cell_type": "markdown",
   "metadata": {},
   "source": [
    "Den lösningen är däremot mycket mer klumpig eftersom det blir många indrag om man har många elif på rad vilket ofta resulterar i att koden blir oläsbar. "
   ]
  },
  {
   "attachments": {},
   "cell_type": "markdown",
   "metadata": {},
   "source": [
    "# Match\n",
    "\n",
    "I python 3.10 introducerades en ny function som funnits länge i de flesta programspråk (men hetat switch istället). Det innebär att man kan matcha ett värde mot en viss händelse. som i exemplet här:"
   ]
  },
  {
   "cell_type": "code",
   "execution_count": 7,
   "metadata": {},
   "outputs": [
    {
     "name": "stdout",
     "output_type": "stream",
     "text": [
      "den räknar bra\n"
     ]
    }
   ],
   "source": [
    "frukt = \"äpple\"\n",
    "\n",
    "match frukt:\n",
    "    case \"päron\":\n",
    "        print(\"den är avlång\")\n",
    "    case \"äpple\":\n",
    "        print(\"den räknar bra\")\n",
    "    case \"banan\":\n",
    "        print(\"den är ännu mer avlång\")\n",
    "    case _:\n",
    "        print(\"vad är det för frukt\")\n"
   ]
  },
  {
   "attachments": {},
   "cell_type": "markdown",
   "metadata": {},
   "source": [
    "Eftersom den funktionen är såpass ny ska man vara noga med att använda den så man inte lägger in den i ett gammalt program som kör en gammal version av python. I så fall kan man använda en långa kedja if, elif, else. Ibland kan man också använda en dict för att uppnå samma resultat. "
   ]
  },
  {
   "attachments": {},
   "cell_type": "markdown",
   "metadata": {},
   "source": [
    "#### Om du har kommit så här långt kan du majoriteten av grundläggande programering. Fortsättningsvis kommer det bli allt mer high-level med större begrepp som krävs för att bygga upp stora mjukvarusystem"
   ]
  }
 ],
 "metadata": {
  "kernelspec": {
   "display_name": "Python 3",
   "language": "python",
   "name": "python3"
  },
  "language_info": {
   "codemirror_mode": {
    "name": "ipython",
    "version": 3
   },
   "file_extension": ".py",
   "mimetype": "text/x-python",
   "name": "python",
   "nbconvert_exporter": "python",
   "pygments_lexer": "ipython3",
   "version": "3.10.6"
  },
  "orig_nbformat": 4
 },
 "nbformat": 4,
 "nbformat_minor": 2
}
