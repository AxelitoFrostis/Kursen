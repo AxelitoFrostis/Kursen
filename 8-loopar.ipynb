{
 "cells": [
  {
   "attachments": {},
   "cell_type": "markdown",
   "metadata": {},
   "source": [
    "# Loopar\n",
    "\n",
    "En till aspekt som gör programering väldigt kraftfullt är loopar, de gör att du kan köra viss kod flera gånger trots att du bara skriver den en gång. I den här lektionen kommer du lära dig allt om dem. \n",
    "\n",
    "Det finns två sorters loopar\n",
    "- while\n",
    "- for"
   ]
  },
  {
   "attachments": {},
   "cell_type": "markdown",
   "metadata": {},
   "source": [
    "## while (sv. så länge ...)\n",
    "\n",
    "En while-loop utför kod så länge ett påstående är sant.\n"
   ]
  },
  {
   "cell_type": "code",
   "execution_count": 3,
   "metadata": {},
   "outputs": [
    {
     "name": "stdout",
     "output_type": "stream",
     "text": [
      "1\n",
      "2\n",
      "3\n",
      "4\n",
      "5\n"
     ]
    }
   ],
   "source": [
    "x = 0\n",
    "\n",
    "while x < 5:\n",
    "    x += 1\n",
    "    print(x)"
   ]
  },
  {
   "attachments": {},
   "cell_type": "markdown",
   "metadata": {},
   "source": [
    "Notera skillnaden mot:"
   ]
  },
  {
   "cell_type": "code",
   "execution_count": 4,
   "metadata": {},
   "outputs": [
    {
     "name": "stdout",
     "output_type": "stream",
     "text": [
      "0\n",
      "1\n",
      "2\n",
      "3\n",
      "4\n"
     ]
    }
   ],
   "source": [
    "x = 0\n",
    "\n",
    "while x < 5:\n",
    "    print(x)\n",
    "    x += 1"
   ]
  },
  {
   "attachments": {},
   "cell_type": "markdown",
   "metadata": {},
   "source": [
    "En loop skrivs likt funktioner med kolon för att visa vilken kod som ska upprepas. "
   ]
  },
  {
   "cell_type": "code",
   "execution_count": 6,
   "metadata": {},
   "outputs": [
    {
     "name": "stdout",
     "output_type": "stream",
     "text": [
      "upprepas\n",
      "upprepas\n",
      "upprepas\n",
      "upprepas\n",
      "upprepas\n",
      "upprepas inte\n"
     ]
    }
   ],
   "source": [
    "x = 0\n",
    "\n",
    "while x < 5:\n",
    "    x += 1\n",
    "    print(\"upprepas\")\n",
    "print(\"upprepas inte\")"
   ]
  },
  {
   "attachments": {},
   "cell_type": "markdown",
   "metadata": {},
   "source": [
    "Det finns vissa loopar som är farliga som kan få datorn att hänga sig, i värsta fall krascha (det händer nästan aldrig i python). Det är loopar som aldrig slutar. Den klassiska är \n",
    "```py\n",
    "while True:\n",
    "    pass # vad som helst\n",
    "```\n",
    "det beror på att sant alltid är sant. det kan också se ut såhär etc\n",
    "```py\n",
    "while 1 == 1:\n",
    "    pass # vad som helst\n",
    "```\n",
    "Testa gärna i ett program att skriva såhär någon gång. Det är ett måste att iaf pröva någon gång. Förhoppningsvis hänger sig bara en processorkärna. Det värsta är när du belastar alla kärnor samtidigt (jag har prövat, fick klicka strömknappen). "
   ]
  },
  {
   "attachments": {},
   "cell_type": "markdown",
   "metadata": {},
   "source": [
    "## For (sv. ett visst antal gånger)\n",
    "\n",
    "Den vanligaste loopen i programering som upprepar ett visst antal gånger. Exempel nedan\n"
   ]
  },
  {
   "cell_type": "code",
   "execution_count": 7,
   "metadata": {},
   "outputs": [
    {
     "name": "stdout",
     "output_type": "stream",
     "text": [
      "hej\n",
      "hej\n",
      "hej\n",
      "hej\n",
      "hej\n"
     ]
    }
   ],
   "source": [
    "for _ in range (5):\n",
    "    print (\"hej\")"
   ]
  },
  {
   "attachments": {},
   "cell_type": "markdown",
   "metadata": {},
   "source": [
    "Indrag funkar på samma sätt som i whileloopen. men är mycket lättare att använda för att upprepa ett visst antal gånger\n",
    "\n",
    "> Om du vet hur många gånger du ska upprepa en loop använd ALLTID en for-loop, om det är ett otydligt antal, använd while. For ska vara goto\n",
    "\n",
    "Den har en till superkraft, man kan välja en variabel som håller koll på vilken omgång loopen är på. "
   ]
  },
  {
   "cell_type": "code",
   "execution_count": 9,
   "metadata": {},
   "outputs": [
    {
     "name": "stdout",
     "output_type": "stream",
     "text": [
      "0\n",
      "1\n",
      "2\n",
      "3\n",
      "4\n",
      "0\n",
      "1\n",
      "2\n",
      "3\n",
      "4\n"
     ]
    }
   ],
   "source": [
    "for i in range (5):\n",
    "    print(i)\n",
    "\n",
    "for räkning in range (5):\n",
    "    print(räkning)"
   ]
  },
  {
   "attachments": {},
   "cell_type": "markdown",
   "metadata": {},
   "source": [
    "En annan fördel med for-loopen är hur bra den fungerar med listor. Det är däremot lite av en python-grej så funkar inte i alla andra programspråk. "
   ]
  },
  {
   "cell_type": "code",
   "execution_count": 10,
   "metadata": {},
   "outputs": [
    {
     "name": "stdout",
     "output_type": "stream",
     "text": [
      "björk\n",
      "ek\n",
      "gran\n",
      "bok\n"
     ]
    }
   ],
   "source": [
    "träd = [\"björk\", \"ek\", \"gran\", \"bok\"]\n",
    "\n",
    "for t in träd:\n",
    "    print (t)"
   ]
  },
  {
   "attachments": {},
   "cell_type": "markdown",
   "metadata": {},
   "source": [
    "Det motsvarar"
   ]
  },
  {
   "cell_type": "code",
   "execution_count": 11,
   "metadata": {},
   "outputs": [
    {
     "name": "stdout",
     "output_type": "stream",
     "text": [
      "björk\n",
      "ek\n",
      "gran\n",
      "bok\n"
     ]
    }
   ],
   "source": [
    "for t in range (len(träd)):\n",
    "    print(träd[t])"
   ]
  },
  {
   "attachments": {},
   "cell_type": "markdown",
   "metadata": {},
   "source": [
    "Däremot är det övre mycket mer lättläst. Däremot är det andra alternativet bra om man måste veta vilken räkning man är på. "
   ]
  },
  {
   "attachments": {},
   "cell_type": "markdown",
   "metadata": {},
   "source": [
    "## fler sätt att loopa på\n",
    "\n",
    "Det finns ett till sätt att loopa på, det är att använda sig av ett koncept som heter rekursion, det är däremot sällan användbart och ofta farligt, men det kommer vi prata mer om i lektion 12. "
   ]
  }
 ],
 "metadata": {
  "kernelspec": {
   "display_name": "Python 3",
   "language": "python",
   "name": "python3"
  },
  "language_info": {
   "codemirror_mode": {
    "name": "ipython",
    "version": 3
   },
   "file_extension": ".py",
   "mimetype": "text/x-python",
   "name": "python",
   "nbconvert_exporter": "python",
   "pygments_lexer": "ipython3",
   "version": "3.10.6"
  },
  "orig_nbformat": 4
 },
 "nbformat": 4,
 "nbformat_minor": 2
}
