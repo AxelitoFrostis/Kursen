{
 "cells": [
  {
   "attachments": {},
   "cell_type": "markdown",
   "metadata": {},
   "source": [
    "# 2 - Aritmetik\n",
    "\n",
    "[Wikipedia om Aritmetik](https://sv.wikipedia.org/wiki/Aritmetik)\n",
    "\n",
    "Sammanfattningsvis är Aritmetik den delen av matte som handlar om att räkna. "
   ]
  },
  {
   "attachments": {},
   "cell_type": "markdown",
   "metadata": {},
   "source": [
    "I grund och botten är ett programspråk en extremt avancerad miniräknare, det beror på att en dator i sin tur är en väldigt avancerad miniräknare med en massa funktioner. För att ge ett exempel, AI är egentligen en kedja med upprepad multiplikation som på ett näst intill magiskt sätt lyckas lista ut om det är en hund eller katt baserat på om ljusnivåer i olika pixlar. Rätt galet\n",
    "Python har alla räknesätten, men eftersom kod skrivs i vanliga bokstäver är alla tecken lite annorlunda. Nedan följer en lista med alla räknesätt och deras tecken. "
   ]
  },
  {
   "attachments": {},
   "cell_type": "markdown",
   "metadata": {},
   "source": [
    "- Addition +\n",
    "- Subtraktion -\n",
    "- Multiplication *\n",
    "- Division /\n",
    "- Potenser **"
   ]
  },
  {
   "attachments": {},
   "cell_type": "markdown",
   "metadata": {},
   "source": [
    "Så för att skriva ett utryck i kod, använd tecknena som vanligt"
   ]
  },
  {
   "cell_type": "code",
   "execution_count": 1,
   "metadata": {},
   "outputs": [
    {
     "data": {
      "text/plain": [
       "9"
      ]
     },
     "execution_count": 1,
     "metadata": {},
     "output_type": "execute_result"
    }
   ],
   "source": [
    "3 + 6"
   ]
  },
  {
   "cell_type": "code",
   "execution_count": 2,
   "metadata": {},
   "outputs": [
    {
     "data": {
      "text/plain": [
       "2.25"
      ]
     },
     "execution_count": 2,
     "metadata": {},
     "output_type": "execute_result"
    }
   ],
   "source": [
    "9 / 4"
   ]
  },
  {
   "cell_type": "code",
   "execution_count": 10,
   "metadata": {},
   "outputs": [
    {
     "data": {
      "text/plain": [
       "9"
      ]
     },
     "execution_count": 10,
     "metadata": {},
     "output_type": "execute_result"
    }
   ],
   "source": [
    "3 ** 2"
   ]
  },
  {
   "attachments": {},
   "cell_type": "markdown",
   "metadata": {},
   "source": [
    "Om man skriver långa uttryck med fler än en operator fungerar prioriteringsregler som på vilken miniräknare som helst, se därför till att lägga in paranteser där det behövs\n",
    "\n",
    "Som du ser är det inga problem att använda aritmetik i python. Det ser oftast likadant ut i de flesta programspråk. Däremot kommer det lite användbar mellanstadiematte som man troligtvis aldrig använt som kommer till användning i programering, nämligen division med rest. Det består av två yttligare aritmetiska funktioner. // och %. // för själva divionen och % för att få fram resten. "
   ]
  },
  {
   "cell_type": "code",
   "execution_count": 3,
   "metadata": {},
   "outputs": [
    {
     "data": {
      "text/plain": [
       "2.25"
      ]
     },
     "execution_count": 3,
     "metadata": {},
     "output_type": "execute_result"
    }
   ],
   "source": [
    "9 / 4  # Vanlig division"
   ]
  },
  {
   "cell_type": "code",
   "execution_count": 4,
   "metadata": {},
   "outputs": [
    {
     "data": {
      "text/plain": [
       "2"
      ]
     },
     "execution_count": 4,
     "metadata": {},
     "output_type": "execute_result"
    }
   ],
   "source": [
    "9 // 4 # Med rest"
   ]
  },
  {
   "cell_type": "code",
   "execution_count": 5,
   "metadata": {},
   "outputs": [
    {
     "data": {
      "text/plain": [
       "1"
      ]
     },
     "execution_count": 5,
     "metadata": {},
     "output_type": "execute_result"
    }
   ],
   "source": [
    "9 % 4 # Själva resten"
   ]
  },
  {
   "cell_type": "code",
   "execution_count": 6,
   "metadata": {},
   "outputs": [
    {
     "name": "stdout",
     "output_type": "stream",
     "text": [
      "2  rest  1\n"
     ]
    }
   ],
   "source": [
    "print (9 // 4, \" rest \", 9 % 4)"
   ]
  },
  {
   "attachments": {},
   "cell_type": "markdown",
   "metadata": {},
   "source": [
    "Detta kan verka helt värdelöst, men tänk en sekund att du vill veta om ett tal är jämt eller inte. I progamering skriver man mycket generellt. Försök hitta ett mönster i resten om du vill veta om talet är jämt. \n",
    "Det här kan tex användas för att få något att hända ex varrannnan eller var tionde gång. Facit finns i nästa lektion, men försök lista ut det själv först. "
   ]
  }
 ],
 "metadata": {
  "kernelspec": {
   "display_name": "Python 3",
   "language": "python",
   "name": "python3"
  },
  "language_info": {
   "codemirror_mode": {
    "name": "ipython",
    "version": 3
   },
   "file_extension": ".py",
   "mimetype": "text/x-python",
   "name": "python",
   "nbconvert_exporter": "python",
   "pygments_lexer": "ipython3",
   "version": "3.10.6"
  },
  "orig_nbformat": 4
 },
 "nbformat": 4,
 "nbformat_minor": 2
}
