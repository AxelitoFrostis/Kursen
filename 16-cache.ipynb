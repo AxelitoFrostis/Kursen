{
 "cells": [
  {
   "attachments": {},
   "cell_type": "markdown",
   "metadata": {},
   "source": [
    "# Cache\n",
    "Caching är processen att spara resultat från en funktion så att den inte behöver räkna ut exakt samma sak flera gånger, det kan användas för att optimera funktioner som tar väldigt lång tid att köra, exempelvis funktionen för fibonaccis talföljd. Men innan jag förklarar hur man gör låt oss gå igenom facit. "
   ]
  },
  {
   "attachments": {},
   "cell_type": "markdown",
   "metadata": {},
   "source": [
    "Till att börja med kan vi konstatera att tal 3 är summan av tal två och 1. Det kan skrivas matematiskt som \n",
    "> *f(3) = f(2) + f(1)*\n",
    "\n",
    "mer generellt\n",
    "\n",
    "> *f(x) = f(x - 1) + f(x - 2)*\n",
    "\n",
    "vi vet också att \n",
    "\n",
    "> *f(1) = 1 och f(0) = 0*\n",
    "\n",
    "Det sistnämnda är de ända bestämda värdena och därför defaultar vi till dem, annars går vi längre ner i funktionen som det ses nedan. "
   ]
  },
  {
   "cell_type": "code",
   "execution_count": 1,
   "metadata": {},
   "outputs": [
    {
     "data": {
      "text/plain": [
       "34"
      ]
     },
     "execution_count": 1,
     "metadata": {},
     "output_type": "execute_result"
    }
   ],
   "source": [
    "def fibonacci(x):\n",
    "    if x < 2:\n",
    "        return x\n",
    "    else:\n",
    "        return fibonacci(x-1) + fibonacci(x-2)\n",
    "    \n",
    "\n",
    "fibonacci(9)"
   ]
  },
  {
   "attachments": {},
   "cell_type": "markdown",
   "metadata": {},
   "source": [
    "Problemet är att den här processen med att använda rekursiva funktioner är att de tar lång tid att köra. Tiden ökar exponentiellt. Om vi kallar input för N är T = 2^N. Det tar mycket lång tid. Om vi testar ett större tal:"
   ]
  },
  {
   "cell_type": "code",
   "execution_count": 8,
   "metadata": {},
   "outputs": [
    {
     "data": {
      "text/plain": [
       "102334155"
      ]
     },
     "execution_count": 8,
     "metadata": {},
     "output_type": "execute_result"
    }
   ],
   "source": [
    "fibonacci(40)"
   ]
  },
  {
   "attachments": {},
   "cell_type": "markdown",
   "metadata": {},
   "source": [
    "Som sagt, det tar väldigt lång tid. Ett sätt att snabba upp funktionen är att implementera caching. Det är egentlignen väldigt enkelt. Alla funktioner implementeras på snarlika sätt. \n",
    "\n",
    "1. Skapa en cache, en tom dict. \n",
    "```py\n",
    "cache = dict()\n",
    "```\n",
    "2. Kolla om värdet funktionen söker finns cachad. Det gör vi med *in*. Om det finns, ge tillbaka värdet. \n",
    "3. Beräkna värdet, spara det i cachen. Ge sedan tillbaka det. \n",
    "\n",
    "Se exemplet nedan. "
   ]
  },
  {
   "cell_type": "code",
   "execution_count": 16,
   "metadata": {},
   "outputs": [],
   "source": [
    "cache = dict()\n",
    "\n",
    "def fibonacci (x):\n",
    "    if x in cache:\n",
    "        return cache[x]\n",
    "    else:\n",
    "        if x < 2:\n",
    "            result = x\n",
    "        else: \n",
    "            result = fibonacci(x-1) + fibonacci(x-2)\n",
    "            \n",
    "        cache[x] = result\n",
    "        return result"
   ]
  },
  {
   "attachments": {},
   "cell_type": "markdown",
   "metadata": {},
   "source": [
    "Om vi nu testar köra samma tal igen kommer vi märka en dramatisk skillnad. Kom ihåg att det bara är det första resultatet som är relevant eftersom det kommer ges tillbaka en cachad lösning alla framtida gånger. Man kommer däremot inte se skillnad så tydligt eftersom den första gången också är extremt snabb. "
   ]
  },
  {
   "cell_type": "code",
   "execution_count": 17,
   "metadata": {},
   "outputs": [
    {
     "data": {
      "text/plain": [
       "102334155"
      ]
     },
     "execution_count": 17,
     "metadata": {},
     "output_type": "execute_result"
    }
   ],
   "source": [
    "fibonacci(40)"
   ]
  },
  {
   "cell_type": "code",
   "execution_count": 22,
   "metadata": {},
   "outputs": [
    {
     "data": {
      "text/plain": [
       "43466557686937456435688527675040625802564660517371780402481729089536555417949051890403879840079255169295922593080322634775209689623239873322471161642996440906533187938298969649928516003704476137795166849228875"
      ]
     },
     "execution_count": 22,
     "metadata": {},
     "output_type": "execute_result"
    }
   ],
   "source": [
    "fibonacci(1000)"
   ]
  },
  {
   "attachments": {},
   "cell_type": "markdown",
   "metadata": {},
   "source": [
    "Rekursviva funktioner kan däremot inte användas på hur stora tal som helst då det fyller upp hela call stacken, en lista med allt som ska köras. En vanlig loop fungerar däremot med hur många iterationer som helst. "
   ]
  },
  {
   "attachments": {},
   "cell_type": "markdown",
   "metadata": {},
   "source": [
    "## Sammanfattning\n",
    "\n",
    "Sammanfattningsvis är cache ett effektivt sätt att snabba upp långsamma funktioner. Se bara till att ha ett system som rensar cachen ibland så den inte blir förstor, sådana system kan bli hur avancerade som helst. \n",
    "\n",
    "När man pratar om att radera en chache, eller information i en databas använder man ofta verbet drop, *to drop the cache*. Man kan göra det efter en viss tid, ett visst antal, manuellt eller i samband med något annat. Se bara till att ha en anledning till att rensa den just då. \n",
    "\n",
    "I många fall går det bra att cacha i en variabel sådär, kanske är smartare att skriva ihop allt till en klass om man ska använda det i ett riktigt projekt eller varför inte som en decorator över en function, eller en decorator som metod i en klass! Glöm inte att alltid försöka skriva koden så tydlig, kort och snabb som möjligt! "
   ]
  }
 ],
 "metadata": {
  "kernelspec": {
   "display_name": "Python 3",
   "language": "python",
   "name": "python3"
  },
  "language_info": {
   "codemirror_mode": {
    "name": "ipython",
    "version": 3
   },
   "file_extension": ".py",
   "mimetype": "text/x-python",
   "name": "python",
   "nbconvert_exporter": "python",
   "pygments_lexer": "ipython3",
   "version": "3.10.6"
  },
  "orig_nbformat": 4
 },
 "nbformat": 4,
 "nbformat_minor": 2
}
