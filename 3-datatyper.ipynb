{
 "cells": [
  {
   "attachments": {},
   "cell_type": "markdown",
   "metadata": {},
   "source": [
    "# 3 - Datatyper\n",
    "\n",
    "För er som inte vet vad data är för något så är det ett finare ord för information. Som vi alla vet finns information i en massa olika sorters format. Det finns ljud, bilder, siffor, böcker och allt annat man kan minnas. I den här lektionen kommer vi prata om de primitiva datatyperna, de som bygger upp alla sorters information. "
   ]
  },
  {
   "attachments": {},
   "cell_type": "markdown",
   "metadata": {},
   "source": [
    "## Boolesk (eng. boolean)\n",
    "Det är den mest grundläggande inom programering. Den kan anta två värden, sant eller falskt. I python:\n",
    "```py\n",
    "True\n",
    "False\n",
    "```\n",
    "Notera att de stavas med stor bokstav. Det är för att de är värden, i nästan alla andra fall stavas allt med liten bokstav, inprogramerade värden är ett undantag. \n",
    "För att explicit definera en ett booleskt värde används i python\n",
    "```py\n",
    "bool()\n",
    "```\n",
    "Mer på hur man använder dem kommer i nästa lektion. "
   ]
  },
  {
   "attachments": {},
   "cell_type": "markdown",
   "metadata": {},
   "source": [
    "## Siffror (eng. integer)\n",
    "Det är en viktig datatyp som används väldigt ofta. Det är alla siffror ***UTAN*** decimaler. ex\n",
    "```py\n",
    "4\n",
    "3459345\n",
    "0\n",
    "2324\n",
    "-23124\n",
    "```\n",
    "De defineras explicit:\n",
    "```py\n",
    "int()\n",
    "```\n",
    "int står för integer\n"
   ]
  },
  {
   "attachments": {},
   "cell_type": "markdown",
   "metadata": {},
   "source": [
    "## Decimaltal (eng. floating point number)\n",
    "Det är också en mycket vikig datatyp och definerar alla siffror med decimaler. Notera att de bara funkar med . (punkt) inga kommatecken, då får man error på ett eller annat sätt. Om man skriver decimaltal mellan 1 och 0 går det bra att exkludera den första nollan som i exemplet nedan. här är några olika floats:\n",
    "```py\n",
    "23923.2323\n",
    "0.232\n",
    ".232\n",
    ".0002323\n",
    "40.00\n",
    "\n",
    "3,9 #FEL\n",
    "```\n",
    "För att definera explicit\n",
    "```py\n",
    "float()\n",
    "```\n",
    "float står för floating point number. \n",
    "\n",
    "> Fun fact: egentligen är skillnaden mot en vanlig siffra att datorn definierar en float som grundpotensform eftersom datorer bara arbetar med 1 och 0 finns det inget tecken för , (i programering .)"
   ]
  },
  {
   "attachments": {},
   "cell_type": "markdown",
   "metadata": {},
   "source": [
    "## Text (eng. string)\n",
    "Det är en av de vanligaste man börjar med. I vissa programspråk är det en samling bokstäver men i python är det en egen. För att inte blanda ihop texten med olika funktioner, klasser, metoder och andra delar av programspråket används \" eller ' i början och slutet för att göra det tydligt. I python är det föredraget att använda enkel ' istället för dubbel \" men båda fungerar\n",
    "```py\n",
    "'hello'\n",
    "\"world\"\n",
    "\n",
    "va #fel\n",
    "```\n",
    "För att definera explicit\n",
    "```py\n",
    "str()\n",
    "```\n",
    "\n",
    "Man kan addera texter med varandra med + tecken och upprepa dem med * men subtraktion fungerar inte. "
   ]
  },
  {
   "cell_type": "code",
   "execution_count": 2,
   "metadata": {},
   "outputs": [
    {
     "data": {
      "text/plain": [
       "'hello world'"
      ]
     },
     "execution_count": 2,
     "metadata": {},
     "output_type": "execute_result"
    }
   ],
   "source": [
    "\"hello\" + ' world'"
   ]
  },
  {
   "cell_type": "code",
   "execution_count": 4,
   "metadata": {},
   "outputs": [
    {
     "data": {
      "text/plain": [
       "'hello hello hello '"
      ]
     },
     "execution_count": 4,
     "metadata": {},
     "output_type": "execute_result"
    }
   ],
   "source": [
    "3 * \"hello \""
   ]
  },
  {
   "attachments": {},
   "cell_type": "markdown",
   "metadata": {},
   "source": [
    "## Avslutning\n",
    "\n",
    "Det finns några fler datatyper, ex binära sekvenser men de är oviktiga i 99.9% av fallen - med de här fyra kommer man väldigt långt. Du kommer senare också lära dig skapa sammansatta datatyper. \n",
    "\n",
    "Undrar du kanske om svaret på frågan i förra problemet? här har du lösningen:"
   ]
  },
  {
   "cell_type": "code",
   "execution_count": 6,
   "metadata": {},
   "outputs": [
    {
     "data": {
      "text/plain": [
       "0"
      ]
     },
     "execution_count": 6,
     "metadata": {},
     "output_type": "execute_result"
    }
   ],
   "source": [
    "6 % 2 # talet 6 är jämt, det blir 0 eftesom om du dividerar ett jämt tal med 2 får du alltid 0"
   ]
  },
  {
   "cell_type": "code",
   "execution_count": 7,
   "metadata": {},
   "outputs": [
    {
     "data": {
      "text/plain": [
       "1"
      ]
     },
     "execution_count": 7,
     "metadata": {},
     "output_type": "execute_result"
    }
   ],
   "source": [
    "9 % 2 # Talet 9 är udda och ger därför svaret 1. Mer om hur du kan använda det kommer i senare lektioer "
   ]
  }
 ],
 "metadata": {
  "kernelspec": {
   "display_name": "Python 3",
   "language": "python",
   "name": "python3"
  },
  "language_info": {
   "codemirror_mode": {
    "name": "ipython",
    "version": 3
   },
   "file_extension": ".py",
   "mimetype": "text/x-python",
   "name": "python",
   "nbconvert_exporter": "python",
   "pygments_lexer": "ipython3",
   "version": "3.10.6"
  },
  "orig_nbformat": 4
 },
 "nbformat": 4,
 "nbformat_minor": 2
}
