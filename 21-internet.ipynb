{
 "cells": [
  {
   "cell_type": "markdown",
   "metadata": {},
   "source": [
    "# HTTP och internet\n",
    "\n",
    "Allt du gör idag anvädner på något sätt internet och du använder troligtvis ordet ofta i din vardag. Färre vet däremot hur det fungerar. I den här lektionen kommer du få en grundläggande förståelse för internet. "
   ]
  },
  {
   "cell_type": "markdown",
   "metadata": {},
   "source": [
    "Egentligen är internet bara en massa sammanlänkade datorer. Genom den här länken kan de utbyta information. Det finns två sorters datorer på internet: klienter och servrar. Klienterna frågar servrarna som svarar på ett eller annat sätt. Det kan vara med information som severn har eller genom att förändra något på severn. Ex på frågor, omskriva för att vara förståliga för människor:\n",
    "- Vad är det för väder imorgon? (svarar med info)\n",
    "- Kan du ändra mitt lösenord? (ändrar något på severn)\n",
    "- Kan du rosta mina mackor? (ändrar något på en annan klient)\n",
    "\n",
    "För att alla ska kunna förstå varandra krävs att alla är överens om vad alla ettor och nollor står för. Annars är det väldigt svårt att kommunicera. Det är som ett brev, man måste skriva rätt information för att det ska kunna komma fram. \n",
    "\n",
    "Detta görs med speciella protokoll som specificerar hur datan skickas. De sker på olika nivårer, vissa protokoll bygger på andra. Jag kommer försöka gå egenom så många som möjligt utan att djupdyka för mycket i någon av dem. \n",
    "\n",
    "### TCP\n",
    "TCP beskriver hur datan packas upp i olika paket och hur paketen ska vara organiserade. Man kan inte skicka all data på samma gång så TCP delar upp allt och nummrerar dem. \n",
    "\n",
    "### IP\n",
    "IP-protokollet ger alla paket en address som gör att de kan hitta rätt. Det består av en lång rad siffror separerat med en del punkter. \n",
    "\n",
    "### Fysiska internet\n",
    "Paketen skickas och olika routrar längs vägen ser till att de hamnar rätt. \n",
    "\n",
    "### DNS\n",
    "Ofta vill man inte skriva in långa IP-addresser så fort man ska skicka något på internet, man vill ha något som en människa kan förstå. Därför uppfann man domain name system (DNS) som gör att man kan köpa addresser som pekar mot en speciell IP-address. Runt om i världen finns servrar som syncar alla webaddresser, utan dem hade kommunication varit nästintill omöjlig på internet. Ett exempel på ett domännamn är google.com eller wikipedia.org\n",
    "\n",
    "### HTTP/HTTPS\n",
    "TCP & IP föklarar hur datorn ska skicka datan men man arbetar nästan aldrig på den låga nivån, de protokol Du kommer stöta på är mest troligt, HTTP, HTTPS, WebSocket(WS) och SMTP. \n",
    "\n",
    "HTTP är det protokol som du använder vanligtvis när du tänker på internet. Det bygger på det jag skrev ovan, en server som svarar på frågor från en klient. Det är det som används i din webbrowser på hemsidor och är det du kommer stöta på i 99% av fallen. HTTPS är samma protokol fast krypterat och därmed säkrare. Det är det som avgör om hemsidan är markerad som säker eller inte säker i din webläsare. \n",
    "\n",
    "Även om det är det vanligaste protokollet är det inte bra på allt. \n",
    "\n",
    "### Web Sockets\n",
    "Om du hanterar strömmar med data som skickas från en eller två parter är websockets bra. De lönar sig därför till dataspel och chattar där du vill ha livedata åt båda hållen. \n",
    "\n",
    "Istället för att skicka frågor hela tiden ställs först en fråga, godkänner du anslutningen? och sedan skickas data fram och tillbaka. Väldigt användbart men lite bökigt ibland. \n",
    "\n",
    "### SMTP\n",
    "SMTP är protokollet bakom emails och om du vill skriva ett program som arbetar med mejl så kan det vara användbart. Oftast finns däremot bättre lösningar som gör det möjligt att skicka mejl med HTTP via en annan tjänst. \n",
    "\n",
    "\n",
    "## Sammanfattning\n",
    "Ofta behöver du inte arbeta med individuella bits men det är ändå bra att känna till hur internet fungerar i stora drag när du ska fatta andra beslut i dina program. \n",
    "\n",
    "Sammanfattningsvis är internet bara ett sätt att koppla ihop flera datorer. Både servrar och klienter är datorer, det innebär att du kan hosta dina projekt på en dator hemma om du vill. \n"
   ]
  }
 ],
 "metadata": {
  "language_info": {
   "name": "python"
  },
  "orig_nbformat": 4
 },
 "nbformat": 4,
 "nbformat_minor": 2
}
