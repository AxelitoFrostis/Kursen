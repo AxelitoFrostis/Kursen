{
 "cells": [
  {
   "attachments": {},
   "cell_type": "markdown",
   "metadata": {},
   "source": [
    "# Listor och Nyckelvärdeslistor\n",
    "\n",
    "Nyckelvärdeslistor kanske är en lite konstig översättning men det är inte så komplicerat, ordbok kanske är en bättre beskrivning och i slutet av lektionen kommer vi förstå varför. \n",
    "Begreppet lista är däremot mycket lättare att förstå, det är en samling andra värden. "
   ]
  },
  {
   "attachments": {},
   "cell_type": "markdown",
   "metadata": {},
   "source": [
    "## Listor\n",
    "I många fall när man programerar vill man spara ett obestämmt antal värden. Att skapa variabler för alla är väldigt svårt. Det är där listor kommer in i bilden. De är otroligt användbara. Låt oss skapa våran första lista"
   ]
  },
  {
   "cell_type": "code",
   "execution_count": 4,
   "metadata": {},
   "outputs": [],
   "source": [
    "frukter = ['äpple', 'päron', 'banan']"
   ]
  },
  {
   "attachments": {},
   "cell_type": "markdown",
   "metadata": {},
   "source": [
    "Det koden ovan gör är att skapa en lista som heter frukter med tre texter (strings) som alla är sparade i en och samma variabel. Alla artiklar(eng. items) i listan har ett osynligt nummer, den första har nummret 0 och sedan går det uppåt. \n",
    "\n",
    "Notera att artiklarna i en lista separeras med kommatecken och inte med punkt.  \n",
    "\n",
    "För att få tillgång till ett visst nummer, även kallat index, skriver man variabelns namn och hackparanteser, []. För att ändra ett visst nummer skriver man som med variabler = följt av det värde man vill ändra till. "
   ]
  },
  {
   "cell_type": "code",
   "execution_count": 5,
   "metadata": {},
   "outputs": [
    {
     "data": {
      "text/plain": [
       "'päron'"
      ]
     },
     "execution_count": 5,
     "metadata": {},
     "output_type": "execute_result"
    }
   ],
   "source": [
    "frukter[1]"
   ]
  },
  {
   "cell_type": "code",
   "execution_count": 6,
   "metadata": {},
   "outputs": [
    {
     "data": {
      "text/plain": [
       "['äpple', 'päron', 'persika']"
      ]
     },
     "execution_count": 6,
     "metadata": {},
     "output_type": "execute_result"
    }
   ],
   "source": [
    "frukter[2] = 'persika'\n",
    "\n",
    "frukter"
   ]
  },
  {
   "attachments": {},
   "cell_type": "markdown",
   "metadata": {},
   "source": [
    "För att lägga till i listan använder man en metod som heter append (sv. förläng). En metod skrivs som en funktion efter variabeln med en punkt; mer om det i avsnittet om OOP. Varje gång du kör koden lägger den till en persimon till listan. "
   ]
  },
  {
   "cell_type": "code",
   "execution_count": 7,
   "metadata": {},
   "outputs": [
    {
     "data": {
      "text/plain": [
       "['äpple', 'päron', 'persika', 'persimon']"
      ]
     },
     "execution_count": 7,
     "metadata": {},
     "output_type": "execute_result"
    }
   ],
   "source": [
    "frukter.append(\"persimon\")\n",
    "\n",
    "frukter"
   ]
  },
  {
   "attachments": {},
   "cell_type": "markdown",
   "metadata": {},
   "source": [
    "För att göra en tom lista kan man antingen skriva \n",
    "```py\n",
    "l = list()\n",
    "l = []\n",
    "```\n",
    "Båda fungerar lika bra"
   ]
  },
  {
   "attachments": {},
   "cell_type": "markdown",
   "metadata": {},
   "source": [
    "## Nyckelvärdeslistor eller ordböcker\n",
    "\n",
    "Ibland vill man inte associera sina datapunkter med någon siffra man inte ens bestämt själv, då kan man fördelaktigt använda en nyckelvärdeslista (eng. dictionary). Den skriv istället för med hackparanteser med måsvingar {}. Låt oss skapa vår första ordlista. "
   ]
  },
  {
   "cell_type": "code",
   "execution_count": 8,
   "metadata": {},
   "outputs": [],
   "source": [
    "huvudstäder = {\"sverige\": \"stockholm\", \"norge\": \"oslo\"}"
   ]
  },
  {
   "attachments": {},
   "cell_type": "markdown",
   "metadata": {},
   "source": [
    "För att komma åt listan däremot används som tidigare hackparanteser. "
   ]
  },
  {
   "cell_type": "code",
   "execution_count": 9,
   "metadata": {},
   "outputs": [
    {
     "data": {
      "text/plain": [
       "'oslo'"
      ]
     },
     "execution_count": 9,
     "metadata": {},
     "output_type": "execute_result"
    }
   ],
   "source": [
    "huvudstäder[\"norge\"]"
   ]
  },
  {
   "attachments": {},
   "cell_type": "markdown",
   "metadata": {},
   "source": [
    "Som du kanske kan se så fungerar länderna i det här fallet som *nycklar* för *värdena*, huvudstäderna. \n",
    "\n",
    "För att lägga till ett värde, skriv en referens med nyckel och skriv ett = till värdet. Se nedan"
   ]
  },
  {
   "cell_type": "code",
   "execution_count": 10,
   "metadata": {},
   "outputs": [
    {
     "data": {
      "text/plain": [
       "{'sverige': 'stockholm', 'norge': 'oslo', 'danmark': 'köpenhamn'}"
      ]
     },
     "execution_count": 10,
     "metadata": {},
     "output_type": "execute_result"
    }
   ],
   "source": [
    "huvudstäder[\"danmark\"] = \"köpenhamn\"\n",
    "\n",
    "huvudstäder"
   ]
  },
  {
   "attachments": {},
   "cell_type": "markdown",
   "metadata": {},
   "source": [
    "För att skapa en tom, skriv antingingen\n",
    "```py\n",
    "d = dict()\n",
    "d = {}\n",
    "```\n",
    "där är dict() det föredragna"
   ]
  },
  {
   "attachments": {},
   "cell_type": "markdown",
   "metadata": {},
   "source": [
    "## Annat än text i\n",
    "\n",
    "I alla exempel har jag bara haft text som innehåll i både listorna och ordböckerna, det kan naturligtvis vara vilken datatyp som helst. Det kan till och med vara listor i listor etc. Med hjälp av det kan man skapa två-dimensionell data som exempelvis i bilder eller tabeller. Det kan exempelvis se ut så här:"
   ]
  },
  {
   "cell_type": "code",
   "execution_count": 11,
   "metadata": {},
   "outputs": [
    {
     "data": {
      "text/plain": [
       "[[0, 1, 0], [1, 1, 1], [0, 1, 0]]"
      ]
     },
     "execution_count": 11,
     "metadata": {},
     "output_type": "execute_result"
    }
   ],
   "source": [
    "matrix = [\n",
    "    [0, 1, 0],\n",
    "    [1, 1, 1],\n",
    "    [0, 1, 0]\n",
    "]\n",
    "\n",
    "matrix"
   ]
  },
  {
   "cell_type": "markdown",
   "metadata": {},
   "source": [
    "För att referera till de värdena används följande"
   ]
  },
  {
   "cell_type": "code",
   "execution_count": 12,
   "metadata": {},
   "outputs": [
    {
     "data": {
      "text/plain": [
       "1"
      ]
     },
     "execution_count": 12,
     "metadata": {},
     "output_type": "execute_result"
    }
   ],
   "source": [
    "matrix [0][1] # Första värdet är rad, andra kolumn"
   ]
  }
 ],
 "metadata": {
  "kernelspec": {
   "display_name": "Python 3",
   "language": "python",
   "name": "python3"
  },
  "language_info": {
   "codemirror_mode": {
    "name": "ipython",
    "version": 3
   },
   "file_extension": ".py",
   "mimetype": "text/x-python",
   "name": "python",
   "nbconvert_exporter": "python",
   "pygments_lexer": "ipython3",
   "version": "3.10.6"
  },
  "orig_nbformat": 4
 },
 "nbformat": 4,
 "nbformat_minor": 2
}
