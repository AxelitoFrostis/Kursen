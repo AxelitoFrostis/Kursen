{
 "cells": [
  {
   "attachments": {},
   "cell_type": "markdown",
   "metadata": {},
   "source": [
    "# Importera Kod\n",
    "\n",
    "Att skriva ett helt program i en fil kan vara bra för små projekt, men för mer komplexa program krävs att du delar upp koden i flera filer. Men hur läser du koden på ett effektivt sätt och hur skriver man i den andra filen för att det ska bli lätt att använda i andra filer? \n",
    "Det här är inte bara användbart när du skriver dina egna som du ska importera till en annan fil utan också när du ska använda annan färdigskriven kod som andra gjort. Man använder mycket kod som andra skriver i sina projekt, vissa grejer är avancerade men likadana för många projekt och därför har andra skrivit kod som alla kan använda. Mer om olika bibliotek och ramverk kommer i en senare lektion. \n",
    "\n",
    "Var alltid försiktig när du kör andras kod då den kan göra skada på din dator, se till att upphovsmännen är trovärdiga. "
   ]
  },
  {
   "attachments": {},
   "cell_type": "markdown",
   "metadata": {},
   "source": [
    "I python importerar man kod med kommandot\n",
    "```py\n",
    "import\n",
    "```\n",
    "\n",
    "I mappen lib har jag en pythonfil som heter jätteavancerad. Vi försöker importera den!"
   ]
  },
  {
   "cell_type": "code",
   "execution_count": 126,
   "metadata": {},
   "outputs": [],
   "source": [
    "import mittlib.jätteavancerad"
   ]
  },
  {
   "attachments": {},
   "cell_type": "markdown",
   "metadata": {},
   "source": [
    "Som vi kan se skrivs filsökvägen separerat med punkter när vi importerar\n",
    "\n",
    "När vi väl importerat den kan vi köra funktionen calc() som jag skrivit där. Den tar en siffra som värde. Det är värt att notera att all kod som skulle köras om du körde filen som vanligt också körs, du får inte bara tillgång till funktionerna. "
   ]
  },
  {
   "cell_type": "code",
   "execution_count": 127,
   "metadata": {},
   "outputs": [
    {
     "name": "stdout",
     "output_type": "stream",
     "text": [
      "6.103515625e-05\n",
      "4398046511104.0\n"
     ]
    }
   ],
   "source": [
    "print(mittlib.jätteavancerad.calc(30))\n",
    "print(mittlib.jätteavancerad.calc(2))"
   ]
  },
  {
   "attachments": {},
   "cell_type": "markdown",
   "metadata": {},
   "source": [
    "Däremot kan vi kostatera att funktionen fick ett väldigt långt namn. Oftast är det inte ett problem men det går att döpa om med hjälp av kommandot\n",
    "```py\n",
    "as\n",
    "```"
   ]
  },
  {
   "cell_type": "code",
   "execution_count": 128,
   "metadata": {},
   "outputs": [
    {
     "data": {
      "text/plain": [
       "16.0"
      ]
     },
     "execution_count": 128,
     "metadata": {},
     "output_type": "execute_result"
    }
   ],
   "source": [
    "import mittlib.jätteavancerad as avcd\n",
    "\n",
    "avcd.calc(21)"
   ]
  },
  {
   "attachments": {},
   "cell_type": "markdown",
   "metadata": {},
   "source": [
    "En annan lösning är att importera specifikt funktionen calc"
   ]
  },
  {
   "cell_type": "code",
   "execution_count": 129,
   "metadata": {},
   "outputs": [
    {
     "data": {
      "text/plain": [
       "2.2737367544323206e-13"
      ]
     },
     "execution_count": 129,
     "metadata": {},
     "output_type": "execute_result"
    }
   ],
   "source": [
    "from mittlib.jätteavancerad import calc\n",
    "\n",
    "calc(44)"
   ]
  },
  {
   "attachments": {},
   "cell_type": "markdown",
   "metadata": {},
   "source": [
    "Om det är många funktioner vi vill importera på det viset kan vi helt enkelt separera dem med hjälp av kommatecken eller importera alla med *"
   ]
  },
  {
   "cell_type": "code",
   "execution_count": 130,
   "metadata": {},
   "outputs": [],
   "source": [
    "from mittlib.jätteavancerad import *\n",
    "from mittlib.jätteavancerad import calc, entill # ignorera felet, lite oklart varför det ducker upp. "
   ]
  },
  {
   "attachments": {},
   "cell_type": "markdown",
   "metadata": {},
   "source": [
    "man ska däremot vara försiktig med att importera med * eftersom det finns risk att flera funktioner med samma namn skrivs över vilket kan resultera i fel när du ska skriva kod. Däremot är det alltid bra att bara importera det man behöver då man inte kloggar allt RAM med onödiga funktioner, detta är extra viktigt när man arbetar med stora bibliotek, de är oftast välsorterade så man kan importera hur mycket eller lite som helst. "
   ]
  },
  {
   "attachments": {},
   "cell_type": "markdown",
   "metadata": {},
   "source": [
    "## Importera klasser\n",
    "\n",
    "Man kan också importera klasser och det görs på samma sätt som funktioner. De flesta bibliotek och ramverk innehåller framförallt klasser då de är mycket enklare att arbeta med i majoriteten av fallen. Klasser gör livet lättare på så många sätt. "
   ]
  },
  {
   "attachments": {},
   "cell_type": "markdown",
   "metadata": {},
   "source": [
    "## Skriva kod man kommer importera\n",
    "\n",
    "Oftast är det bara att skriva koden som vanligt, men ibland vill man bara att själva programet ska köras om man kör själva programmet, inte om man importerar det. Det kan man lösa med en if-sats. "
   ]
  },
  {
   "cell_type": "code",
   "execution_count": 131,
   "metadata": {},
   "outputs": [
    {
     "name": "stdout",
     "output_type": "stream",
     "text": [
      "kör programmet\n"
     ]
    }
   ],
   "source": [
    "if __name__ == \"__main__\":\n",
    "    print (\"kör programmet\")"
   ]
  },
  {
   "attachments": {},
   "cell_type": "markdown",
   "metadata": {},
   "source": [
    "Det är till och med ännu bättre om du delar upp det i en funktion eftersom du då har möjligheten att välja om du vill köra programmet och isf när. "
   ]
  },
  {
   "cell_type": "code",
   "execution_count": 132,
   "metadata": {},
   "outputs": [
    {
     "name": "stdout",
     "output_type": "stream",
     "text": [
      "nu körs programmet\n"
     ]
    }
   ],
   "source": [
    "def main():\n",
    "    print(\"nu körs programmet\")\n",
    "\n",
    "if __name__ == \"__main__\":\n",
    "    main()"
   ]
  },
  {
   "attachments": {},
   "cell_type": "markdown",
   "metadata": {},
   "source": [
    "För att då köra programmet, kör helt enkelt main()"
   ]
  },
  {
   "cell_type": "code",
   "execution_count": 133,
   "metadata": {},
   "outputs": [
    {
     "name": "stdout",
     "output_type": "stream",
     "text": [
      "nu körs programmet\n"
     ]
    }
   ],
   "source": [
    "main()"
   ]
  }
 ],
 "metadata": {
  "kernelspec": {
   "display_name": "Python 3",
   "language": "python",
   "name": "python3"
  },
  "language_info": {
   "codemirror_mode": {
    "name": "ipython",
    "version": 3
   },
   "file_extension": ".py",
   "mimetype": "text/x-python",
   "name": "python",
   "nbconvert_exporter": "python",
   "pygments_lexer": "ipython3",
   "version": "3.10.6"
  },
  "orig_nbformat": 4
 },
 "nbformat": 4,
 "nbformat_minor": 2
}
