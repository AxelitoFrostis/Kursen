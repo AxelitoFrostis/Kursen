{
 "cells": [
  {
   "cell_type": "markdown",
   "metadata": {},
   "source": [
    "# Databaser\n",
    "\n",
    "För att kunna spara stora mängder data är det databaser som gäller, de är byggda för att spara data på bästa möjliga sätt. Det finns idag två populära sorters databaser, dokumentdatabaser och relationsdatabaser. Det finns däremot fler men de här två är de vanligaste. I appar, spara aldrig datan i källkoden eller minnet, använd en databas!\n",
    "\n",
    "## Relationsdatabaser\n",
    "Relationsdatabaser, eller SQL som de ofta refereras som, är lite som excel på steroider. Datan sparas i rader med fördefinerade kolumner. Det magiska är däremot att de kan länka till andra tabeller. Ta det här exemplet:\n",
    "\n",
    "Du har två tabeller, författare och bok. En författare har i det här fallet en eller flera böcker men en bok har bara en författare. I tabellen med boken sparas då istället för all information om författaren en liten siffra som pekar på en rad i författartabellen. Det gör det mycket lättare att hitta datan du söker och du slipper spara samma information flera gånger. Det är dumt ur flera synpunkter, dels tar det mycket plats och dels är det svårt att ändra. \n",
    "\n",
    "Ex på databaser:\n",
    "- PostgreSQL\n",
    "- MySQL\n",
    "\n",
    "## Dokumentdatabaser\n",
    "Dokumentdatabaser är en ny sorts databas som är mer flexibla än SQL. Det finns inga fördefinerade kolumner utan all data sparas i fristående dokument. Det här är bra när du behöver extra mycket flexibilitet eller inte vet vad du ska spara. \n",
    "\n",
    "Ex på databaser:\n",
    "- MongoDB\n",
    "\n",
    "## Sammanfattning\n",
    "Läs på om den databasen du vill använda. Mitt tips är PostgreSQL eller MongoDB"
   ]
  }
 ],
 "metadata": {
  "language_info": {
   "name": "python"
  },
  "orig_nbformat": 4
 },
 "nbformat": 4,
 "nbformat_minor": 2
}
