{
 "cells": [
  {
   "cell_type": "markdown",
   "metadata": {},
   "source": [
    "# CSS\n",
    "\n",
    "CSS är inte heller så komplicerat, men till skillnad från HTML suger det. Man kan bråka med CSS hur länge som helst och man kommer ingen vart. Ens klassnamn urartar och du slutar med ett virvarr av skräp som gör något ganska fint men ändå fult. \n",
    "\n",
    "För att bevisa det här, testa centrera en div på skärmen, lycka till!\n",
    "\n",
    "Såklart måste du läsa på om det så här har du en källa. Hur värdelöst det än må vara så måste man tyvärr känna till det. För guds skull, gör inte allt på websidan men lägg ner en del tid på css, det behövs. \n",
    "\n",
    "[länk](https://www.w3schools.com/css/default.asp)\n",
    "\n",
    "När du nu upptäckt hur förjävligt css är, låt oss hitta nya sätt utan css. \n",
    "\n",
    "1. Tailwind CSS: Det är så jävla mycket bättre på alla sätt och vis. Man lägger bara till en massa klasser och så funkar det. Eftersom klassnamnen är förenklade får man designen konsekvent. Jag älskar tailwind! Man har också mycket frihet med det. [länk](https://tailwindcss.com/) (de har riktigt snygg hemsida om du frågar mig)\n",
    "\n",
    "2. Bootstrap: Ibland vill man inte skapa unika hemsidor utan helt enkelt bra, snygga hemsidor utan att behöva tänka på design. Använd bara bootstap. Egen design är overrated, det är inte ens så bra. Kolla deras hemsida, den är snygg, enkel och tydlig. Glöm inte att den är jättelätt att använda. Däremot är den inte lika lätt att anpassa, det är inte alltid ett problem så glöm inte bootstrap. Jag älskar bootstrap också! [länk](https://getbootstrap.com/)\n",
    "\n",
    "## Sammanfattning\n",
    "\n",
    "CSS är vikigt att kunna, men inte för att du ska kunna skriva just css utan mer kunna förstå vad man kan göra med det så att man sen kan göra det med ett bättre verktyg, så är det ibland!"
   ]
  }
 ],
 "metadata": {
  "language_info": {
   "name": "python"
  },
  "orig_nbformat": 4
 },
 "nbformat": 4,
 "nbformat_minor": 2
}
