{
 "cells": [
  {
   "attachments": {},
   "cell_type": "markdown",
   "metadata": {},
   "source": [
    "# Axelito's Kurs i Programering"
   ]
  },
  {
   "attachments": {},
   "cell_type": "markdown",
   "metadata": {},
   "source": [
    "## Välkommen! \n",
    "I den här kursen kommer du lära dig allt du ebhöver veta för att kunna komma igång med grundläggande mjukvaruutveckling. Kursen kommer ha ett fokus på webserverutveckling men de första delarna är generella för all sorts programering. Programspråket vi kommer arbeta med är python. För att underlätta att demonstrera kod kommer kursen att vara skriva i s.k. notebooks (.ipynb - står för interactive python notebook) men vanligtvis slutar pythonfiler med .py som körs rakt igenom. Notebooks har celler som kan köras individuellt och är optimalt för kurser och redovisning av datavetenskapsstudier såsom machine learning och andra analyser av stora mängder data. "
   ]
  },
  {
   "attachments": {},
   "cell_type": "markdown",
   "metadata": {},
   "source": [
    "## Vad behöver du?\n",
    "Allt du behöver för att gå igenom den här kursen är:\n",
    "- En dator att skriva och köra kod på\n",
    "- Python 3.(6< helst den senaste versionen som i skrivande stund är 11)\n",
    "- Text editor - Använd visual studio ***code*** (inte visual studio). Det är gratis och bäst\n",
    "\n",
    "När du installerar python, se till att du klickar i rutan \"add to path\". Det är MYCKET viktigt då du inte kommer kunna köra din kod annars. Din dator kan behöva starta om efter intallationen av python, men troligtvis inte. \n"
   ]
  },
  {
   "attachments": {},
   "cell_type": "markdown",
   "metadata": {},
   "source": [
    "## Nu börjar vi!\n",
    "För att testa om allt funkar som det ska, testa köra koden i rutan nedan. Allting efter en hashtag ignoreras i python, det kallas en kommentar och kan användas för att förtydliga för andra programerare vad viss kod gör eller helt enkelt inaktivera en snutt man vill testa utan men inte radera. "
   ]
  },
  {
   "cell_type": "code",
   "execution_count": 2,
   "metadata": {},
   "outputs": [
    {
     "name": "stdout",
     "output_type": "stream",
     "text": [
      "hello world\n"
     ]
    }
   ],
   "source": [
    "print('hello world') # Skriver ut hello world i terminalen"
   ]
  },
  {
   "attachments": {},
   "cell_type": "markdown",
   "metadata": {},
   "source": [
    "Om allting funkar som det ska borde det stå Hello World under kodrutan och du kan gå vidare till nästa lektion. \n",
    "\n",
    "\n",
    "> *Reklektera inte kring hur det funkar, fler förklarningar kommer senare i kursen*\n",
    "\n",
    "\n",
    "Om det inte fungerade se till att du har python installerat. Visual studio code kan också fråga dig om vilken enviroment du vill använda. Välj i så fall den senaste versionen, den som du installerade. "
   ]
  }
 ],
 "metadata": {
  "kernelspec": {
   "display_name": "Python 3",
   "language": "python",
   "name": "python3"
  },
  "language_info": {
   "codemirror_mode": {
    "name": "ipython",
    "version": 3
   },
   "file_extension": ".py",
   "mimetype": "text/x-python",
   "name": "python",
   "nbconvert_exporter": "python",
   "pygments_lexer": "ipython3",
   "version": "3.10.6"
  },
  "orig_nbformat": 4
 },
 "nbformat": 4,
 "nbformat_minor": 2
}
