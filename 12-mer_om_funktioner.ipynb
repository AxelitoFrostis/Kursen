{
 "cells": [
  {
   "attachments": {},
   "cell_type": "markdown",
   "metadata": {},
   "source": [
    "# Mer om Funktioner\n",
    "\n"
   ]
  },
  {
   "attachments": {},
   "cell_type": "markdown",
   "metadata": {},
   "source": [
    "## Rekursiva funktioner\n",
    "\n",
    "Det är funktioner som kör sig själva vilket resulterar i en loop. Det är vikigt att de används med kontroll annars kan programmet hänga sig i en evighetsloop. \n",
    "\n",
    "Ex:"
   ]
  },
  {
   "cell_type": "code",
   "execution_count": 2,
   "metadata": {},
   "outputs": [
    {
     "name": "stdout",
     "output_type": "stream",
     "text": [
      "4\n",
      "3\n",
      "2\n",
      "1\n",
      "0\n"
     ]
    }
   ],
   "source": [
    "def räkna_ner (x):\n",
    "    print(x)\n",
    "    if x > 0:\n",
    "        räkna_ner(x - 1)\n",
    "\n",
    "räkna_ner(4)"
   ]
  },
  {
   "attachments": {},
   "cell_type": "markdown",
   "metadata": {},
   "source": [
    "Ledtråd, använd i fibonacciproblemet i framtida lektioner. "
   ]
  },
  {
   "attachments": {},
   "cell_type": "markdown",
   "metadata": {},
   "source": [
    "## Funktioner som ger tillbaka funktioner, aka decorators\n",
    "\n",
    "De kan vara användbara för att förkorta viss kod. Det är i princip bara användbara när de tar en funktion som ett argument. \n",
    "\n",
    "Ex."
   ]
  },
  {
   "cell_type": "code",
   "execution_count": 5,
   "metadata": {},
   "outputs": [
    {
     "name": "stdout",
     "output_type": "stream",
     "text": [
      "world\n"
     ]
    }
   ],
   "source": [
    "a = True\n",
    "\n",
    "def hello(): # Grundfunktion som vi kommer modifiera\n",
    "    print (\"world\")\n",
    "\n",
    "\n",
    "def funcforfunc (func): #Funktion som tar en funktion som argument\n",
    "    if a:\n",
    "        print (\"Förlåt men jag stör mitt i funktionen\")\n",
    "    return func\n",
    "\n",
    "funcforfunc(hello)()"
   ]
  },
  {
   "attachments": {},
   "cell_type": "markdown",
   "metadata": {},
   "source": [
    "I det här exemplet förändras bara funktionen temporärt för just den här körningen. I de flesta fall är det permanent. Nedan är ett sätt att göra det permanent"
   ]
  },
  {
   "cell_type": "code",
   "execution_count": 7,
   "metadata": {},
   "outputs": [
    {
     "name": "stdout",
     "output_type": "stream",
     "text": [
      "Förlåt men jag stör mitt i funktionen\n",
      "world\n"
     ]
    }
   ],
   "source": [
    "hello = funcforfunc(hello)\n",
    "\n",
    "hello()"
   ]
  },
  {
   "attachments": {},
   "cell_type": "markdown",
   "metadata": {},
   "source": [
    "I de här formerna stöter man i princip aldrig på det här redan ganska ovanliga fenomenet. Den används oftast som en decorator. Det innebär att man dekorerar en function över definitionen. "
   ]
  },
  {
   "cell_type": "code",
   "execution_count": 6,
   "metadata": {},
   "outputs": [
    {
     "name": "stdout",
     "output_type": "stream",
     "text": [
      "Förlåt men jag stör mitt i funktionen\n",
      "world\n"
     ]
    }
   ],
   "source": [
    "a = True\n",
    "\n",
    "@funcforfunc\n",
    "def hello(): # Grundfunktion som vi kommer modifiera\n",
    "    print (\"world\")\n",
    "\n",
    "hello()"
   ]
  },
  {
   "attachments": {},
   "cell_type": "markdown",
   "metadata": {},
   "source": [
    "### Användningsområden\n",
    "Jag har personligen använt det här för att kolla om mina användare har behörigheterna som krävs för att visa innehåll på en hemsida. Då kunde jag lägga det över funktionen som skickade informationen till användarna. Functionen som decorerade kollade då först om användarna hade behörighet innan den gick vidare till att skicka informationen eller att de blivit nekade pga för låg behörighet. "
   ]
  },
  {
   "attachments": {},
   "cell_type": "markdown",
   "metadata": {},
   "source": [
    "## Globala vs Lokala variabler"
   ]
  }
 ],
 "metadata": {
  "kernelspec": {
   "display_name": "Python 3",
   "language": "python",
   "name": "python3"
  },
  "language_info": {
   "codemirror_mode": {
    "name": "ipython",
    "version": 3
   },
   "file_extension": ".py",
   "mimetype": "text/x-python",
   "name": "python",
   "nbconvert_exporter": "python",
   "pygments_lexer": "ipython3",
   "version": "3.10.6"
  },
  "orig_nbformat": 4
 },
 "nbformat": 4,
 "nbformat_minor": 2
}
