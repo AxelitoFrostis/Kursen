{
 "cells": [
  {
   "attachments": {},
   "cell_type": "markdown",
   "metadata": {},
   "source": [
    "# Köra Program\n",
    "\n",
    "Att köra koden du skrivit är inte alltid så enkelt, det är lite ovant i början att använda en terminal, men ju mer man använder den destå lättare blir det. "
   ]
  },
  {
   "attachments": {},
   "cell_type": "markdown",
   "metadata": {},
   "source": [
    "Det är lite olika på mac och på PC, men jag kommer visa båda. \n",
    "\n",
    "Börja med att öppna terminalen. \n",
    "\n",
    "Navigera till rätt filsökväg, den där programmet ligger. Du ser vart du är just nu genom att kolla till vänster. \n",
    "\n",
    "För att se vad du har i din aktuella mapp skriv"
   ]
  },
  {
   "attachments": {},
   "cell_type": "markdown",
   "metadata": {},
   "source": [
    "*windows*\n",
    "```bat\n",
    "dir\n",
    "````\n",
    "\n",
    "*mac*\n",
    "```sh\n",
    "ls\n",
    "```\n"
   ]
  },
  {
   "attachments": {},
   "cell_type": "markdown",
   "metadata": {},
   "source": [
    "För att gå in i en mapp skriv\n",
    "```bat\n",
    "cd namn_på_mapp\n",
    "```\n",
    "Om mappen innehåller mellanslag, använd \"\" (enkla funkar inte här) på följande sätt\n",
    "```bat\n",
    "cd \"min mapp\"\n",
    "```"
   ]
  },
  {
   "cell_type": "markdown",
   "metadata": {},
   "source": [
    "Om du vill gå tillbaka ett steg, till en högre mapp använd\n",
    "\n",
    "```bat\n",
    "cd ..\n",
    "```"
   ]
  },
  {
   "attachments": {},
   "cell_type": "markdown",
   "metadata": {},
   "source": [
    "När du väl är i mappen med programmet i. skriv python på windows och python3 på mac och linux följt av namnet på programmet. I exemplena nedan kör vi filen main.py men den kan heta vad som helst. \n",
    "\n",
    "*windows*\n",
    "```bat\n",
    "python main.py\n",
    "```\n",
    "*mac*\n",
    "```sh\n",
    "python3 main.py"
   ]
  },
  {
   "attachments": {},
   "cell_type": "markdown",
   "metadata": {},
   "source": [
    "Du har nu kört ditt första pythonprogram. Jag skulle rekomendera att du lär dig lite mer om terminalen på egen hand, det är tyvärr utanför räckvidden för denna kurs. Att vara bekväm i terminalen är väldigt vikigt för en programerare då det ofta är det ända sättet att kommunicera med servrar som ska påminnas är hela datorer som är byggda för att köra din kod. Det innnebär att du måste kunna styra allt genom en terminal, hitta alla fel i koden etc. Det kommer alltid vara bökigt men det kan iaf bli lite lättare. "
   ]
  }
 ],
 "metadata": {
  "language_info": {
   "name": "python"
  },
  "orig_nbformat": 4
 },
 "nbformat": 4,
 "nbformat_minor": 2
}
